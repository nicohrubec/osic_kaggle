{
 "cells": [
  {
   "cell_type": "code",
   "execution_count": 1,
   "metadata": {
    "_cell_guid": "b1076dfc-b9ad-4769-8c92-a6c4dae69d19",
    "_uuid": "8f2839f25d086af736a60e9eeb907d3b93b6e0e5",
    "execution": {
     "iopub.execute_input": "2020-08-28T10:10:48.658990Z",
     "iopub.status.busy": "2020-08-28T10:10:48.658208Z",
     "iopub.status.idle": "2020-08-28T10:10:49.856096Z",
     "shell.execute_reply": "2020-08-28T10:10:49.855265Z"
    },
    "papermill": {
     "duration": 1.227873,
     "end_time": "2020-08-28T10:10:49.856255",
     "exception": false,
     "start_time": "2020-08-28T10:10:48.628382",
     "status": "completed"
    },
    "tags": []
   },
   "outputs": [],
   "source": [
    "import numpy as np\n",
    "import pandas as pd\n",
    "import os\n",
    "\n",
    "from sklearn.linear_model import Ridge\n",
    "from sklearn.model_selection import GroupKFold\n",
    "from sklearn.preprocessing import LabelEncoder\n",
    "\n",
    "import warnings\n",
    "warnings.filterwarnings('ignore')"
   ]
  },
  {
   "cell_type": "code",
   "execution_count": 2,
   "metadata": {
    "_cell_guid": "79c7e3d0-c299-4dcb-8224-4455121ee9b0",
    "_uuid": "d629ff2d2480ee46fbb7e2d37f6b5fab8052498a",
    "execution": {
     "iopub.execute_input": "2020-08-28T10:10:49.908551Z",
     "iopub.status.busy": "2020-08-28T10:10:49.907759Z",
     "iopub.status.idle": "2020-08-28T10:10:49.937824Z",
     "shell.execute_reply": "2020-08-28T10:10:49.937094Z"
    },
    "papermill": {
     "duration": 0.059991,
     "end_time": "2020-08-28T10:10:49.937975",
     "exception": false,
     "start_time": "2020-08-28T10:10:49.877984",
     "status": "completed"
    },
    "tags": []
   },
   "outputs": [],
   "source": [
    "train_init = pd.read_csv('../input/osic-pulmonary-fibrosis-progression/train.csv')\n",
    "test_info = pd.read_csv('../input/osic-pulmonary-fibrosis-progression/test.csv')\n",
    "test_init = pd.read_csv('../input/osic-pulmonary-fibrosis-progression/sample_submission.csv')"
   ]
  },
  {
   "cell_type": "code",
   "execution_count": 3,
   "metadata": {
    "execution": {
     "iopub.execute_input": "2020-08-28T10:10:50.001554Z",
     "iopub.status.busy": "2020-08-28T10:10:49.996882Z",
     "iopub.status.idle": "2020-08-28T10:10:50.037619Z",
     "shell.execute_reply": "2020-08-28T10:10:50.038285Z"
    },
    "papermill": {
     "duration": 0.079387,
     "end_time": "2020-08-28T10:10:50.038496",
     "exception": false,
     "start_time": "2020-08-28T10:10:49.959109",
     "status": "completed"
    },
    "tags": []
   },
   "outputs": [],
   "source": [
    "# prepare train\n",
    "feat_map = train_init.groupby('Patient')['Weeks'].first()\n",
    "train_init['init_Week'] = train_init['Patient'].map(feat_map)\n",
    "feat_map = train_init.groupby('Patient')['FVC'].first()\n",
    "train_init['init_FVC'] = train_init['Patient'].map(feat_map)\n",
    "feat_map = train_init.groupby('Patient')['Percent'].first()\n",
    "train_init['init_Percent'] = train_init['Patient'].map(feat_map)\n",
    "\n",
    "train_init.drop(['Percent'], axis=1, inplace=True)\n",
    "train_init = train_init[train_init.Weeks!=train_init.init_Week].reset_index(drop=True)\n",
    "feats = [col for col in train_init.columns if col not in ['Patient', 'FVC']]\n",
    "target = ['FVC']"
   ]
  },
  {
   "cell_type": "code",
   "execution_count": 4,
   "metadata": {
    "execution": {
     "iopub.execute_input": "2020-08-28T10:10:50.105644Z",
     "iopub.status.busy": "2020-08-28T10:10:50.099857Z",
     "iopub.status.idle": "2020-08-28T10:10:50.111157Z",
     "shell.execute_reply": "2020-08-28T10:10:50.111734Z"
    },
    "papermill": {
     "duration": 0.052238,
     "end_time": "2020-08-28T10:10:50.111933",
     "exception": false,
     "start_time": "2020-08-28T10:10:50.059695",
     "status": "completed"
    },
    "tags": []
   },
   "outputs": [],
   "source": [
    "# prepare test data\n",
    "test_info.rename(columns={'FVC':'init_FVC', 'Weeks':'init_Week', 'Percent':'init_Percent'}, inplace=True)\n",
    "test_init['Patient'] = test_init['Patient_Week'].apply(lambda x:x.split('_')[0])\n",
    "test_init['Weeks'] = test_init['Patient_Week'].apply(lambda x: int(x.split('_')[-1]))\n",
    "test_init = test_init.merge(test_info, on='Patient', how='left')\n",
    "test_init.drop(['Patient_Week', 'FVC', 'Confidence'], axis=1, inplace=True)\n",
    "test_init = test_init[feats]"
   ]
  },
  {
   "cell_type": "code",
   "execution_count": 5,
   "metadata": {
    "execution": {
     "iopub.execute_input": "2020-08-28T10:10:50.166771Z",
     "iopub.status.busy": "2020-08-28T10:10:50.165951Z",
     "iopub.status.idle": "2020-08-28T10:10:50.169493Z",
     "shell.execute_reply": "2020-08-28T10:10:50.168812Z"
    },
    "papermill": {
     "duration": 0.036285,
     "end_time": "2020-08-28T10:10:50.169627",
     "exception": false,
     "start_time": "2020-08-28T10:10:50.133342",
     "status": "completed"
    },
    "tags": []
   },
   "outputs": [],
   "source": [
    "# feed pandas series of targets\n",
    "# feed numpy array of confidence scores and oof predictions\n",
    "def score(true, pred, conf, scored):\n",
    "    df = pd.DataFrame(data=true, columns=['FVC'])\n",
    "    df['FVC_pred'] = pred\n",
    "    df['Confidence'] = conf\n",
    "    df['scored'] = scored\n",
    "    df = df[df.scored==1]\n",
    "    \n",
    "    df['sigma_clipped'] = df['Confidence'].apply(lambda x: max(x, 70))\n",
    "    df['diff'] = abs(df['FVC'] - df['FVC_pred'])\n",
    "    df['delta'] = df['diff'].apply(lambda x: min(x, 1000))\n",
    "    df['score'] = -np.sqrt(2)*df['delta']/df['sigma_clipped'] - np.log(np.sqrt(2)*df['sigma_clipped'])\n",
    "    return df['score'].mean()"
   ]
  },
  {
   "cell_type": "code",
   "execution_count": 6,
   "metadata": {
    "execution": {
     "iopub.execute_input": "2020-08-28T10:10:50.225354Z",
     "iopub.status.busy": "2020-08-28T10:10:50.224523Z",
     "iopub.status.idle": "2020-08-28T10:10:50.228176Z",
     "shell.execute_reply": "2020-08-28T10:10:50.227565Z"
    },
    "papermill": {
     "duration": 0.037363,
     "end_time": "2020-08-28T10:10:50.228343",
     "exception": false,
     "start_time": "2020-08-28T10:10:50.190980",
     "status": "completed"
    },
    "tags": []
   },
   "outputs": [],
   "source": [
    "# feature encoding and further feature engineering\n",
    "def create_features(df, test_df):\n",
    "    for col in ['Sex', 'SmokingStatus']:\n",
    "        le = LabelEncoder()\n",
    "        le.fit(list(df[col].astype(str).values) + list(test_df[col].astype(str).values))\n",
    "        df[col] = le.transform(list(df[col].astype(str).values))\n",
    "        test_df[col] = le.transform(list(test_df[col].astype(str).values))\n",
    "    \n",
    "    df_concat = pd.concat([df, test_df])\n",
    "    \n",
    "    df_concat['Weeks_passed'] = df_concat['Weeks'] - df_concat['init_Week']\n",
    "    df_concat.drop(['Weeks', 'init_Week'], axis=1, inplace=True)\n",
    "    \n",
    "    test_df = df_concat[len(df):]\n",
    "    df = df_concat[:len(df)]\n",
    "    \n",
    "    return df, test_df"
   ]
  },
  {
   "cell_type": "code",
   "execution_count": 7,
   "metadata": {
    "execution": {
     "iopub.execute_input": "2020-08-28T10:10:50.282856Z",
     "iopub.status.busy": "2020-08-28T10:10:50.282021Z",
     "iopub.status.idle": "2020-08-28T10:10:50.284657Z",
     "shell.execute_reply": "2020-08-28T10:10:50.285279Z"
    },
    "papermill": {
     "duration": 0.035118,
     "end_time": "2020-08-28T10:10:50.285462",
     "exception": false,
     "start_time": "2020-08-28T10:10:50.250344",
     "status": "completed"
    },
    "tags": []
   },
   "outputs": [],
   "source": [
    "# mean and std removal\n",
    "def normalize(df, test_df, features):\n",
    "    df, test_df = df.copy(), test_df.copy()\n",
    "    norm_feats = [feat for feat in features if feat not in ['SmokingStatus', 'Sex']]\n",
    "    for feat in norm_feats:\n",
    "        mean = df[feat].mean()\n",
    "        std = df[feat].std()\n",
    "        \n",
    "        df[feat] = (df[feat]-mean)/std\n",
    "        test_df[feat] = (test_df[feat]-mean)/std\n",
    "    \n",
    "    return df, test_df"
   ]
  },
  {
   "cell_type": "code",
   "execution_count": 8,
   "metadata": {
    "execution": {
     "iopub.execute_input": "2020-08-28T10:10:50.339465Z",
     "iopub.status.busy": "2020-08-28T10:10:50.338573Z",
     "iopub.status.idle": "2020-08-28T10:10:50.341618Z",
     "shell.execute_reply": "2020-08-28T10:10:50.340994Z"
    },
    "papermill": {
     "duration": 0.0342,
     "end_time": "2020-08-28T10:10:50.341754",
     "exception": false,
     "start_time": "2020-08-28T10:10:50.307554",
     "status": "completed"
    },
    "tags": []
   },
   "outputs": [],
   "source": [
    "def more_feats(df, test_df, feats):\n",
    "    df_concat = pd.concat([df, test_df])\n",
    "    \n",
    "    df_concat['age_perc_ratio'] = df_concat['init_Percent'] / df_concat['Age']\n",
    "    df_concat['sex_smoke'] = df_concat['Sex'] - df_concat['SmokingStatus']\n",
    "    df_concat['fvc_age_diff'] = df_concat['init_FVC'] - df_concat['Age']\n",
    "    feats.extend(['age_perc_ratio', 'sex_smoke', 'fvc_age_diff'])\n",
    "\n",
    "    test_df = df_concat[len(df):]\n",
    "    df = df_concat[:len(df)]\n",
    "    \n",
    "    return df, test_df, feats"
   ]
  },
  {
   "cell_type": "code",
   "execution_count": 9,
   "metadata": {
    "execution": {
     "iopub.execute_input": "2020-08-28T10:10:50.396507Z",
     "iopub.status.busy": "2020-08-28T10:10:50.395683Z",
     "iopub.status.idle": "2020-08-28T10:10:50.412490Z",
     "shell.execute_reply": "2020-08-28T10:10:50.411781Z"
    },
    "papermill": {
     "duration": 0.047039,
     "end_time": "2020-08-28T10:10:50.412635",
     "exception": false,
     "start_time": "2020-08-28T10:10:50.365596",
     "status": "completed"
    },
    "tags": []
   },
   "outputs": [],
   "source": [
    "train_init, test_init = create_features(train_init, test_init)\n",
    "\n",
    "# redefine feats after feature engineering\n",
    "feats = [col for col in train_init.columns if col not in ['Patient', 'FVC']]\n",
    "target = ['FVC']"
   ]
  },
  {
   "cell_type": "code",
   "execution_count": 10,
   "metadata": {
    "execution": {
     "iopub.execute_input": "2020-08-28T10:10:50.464677Z",
     "iopub.status.busy": "2020-08-28T10:10:50.463869Z",
     "iopub.status.idle": "2020-08-28T10:10:50.467340Z",
     "shell.execute_reply": "2020-08-28T10:10:50.467872Z"
    },
    "papermill": {
     "duration": 0.033081,
     "end_time": "2020-08-28T10:10:50.468055",
     "exception": false,
     "start_time": "2020-08-28T10:10:50.434974",
     "status": "completed"
    },
    "tags": []
   },
   "outputs": [],
   "source": [
    "# init placeholders and vars for confidence scores\n",
    "base_confidence = 200\n",
    "var_confidence = 2\n",
    "temp_confs = np.ones(len(train_init)) * base_confidence\n",
    "temp_confs_test = np.ones(len(test_init)) * base_confidence"
   ]
  },
  {
   "cell_type": "code",
   "execution_count": 11,
   "metadata": {
    "execution": {
     "iopub.execute_input": "2020-08-28T10:10:50.529071Z",
     "iopub.status.busy": "2020-08-28T10:10:50.527955Z",
     "iopub.status.idle": "2020-08-28T10:10:50.533010Z",
     "shell.execute_reply": "2020-08-28T10:10:50.532367Z"
    },
    "papermill": {
     "duration": 0.041946,
     "end_time": "2020-08-28T10:10:50.533137",
     "exception": false,
     "start_time": "2020-08-28T10:10:50.491191",
     "status": "completed"
    },
    "tags": []
   },
   "outputs": [],
   "source": [
    "# create confidence scores --> base_confidence + weeks passed * var confidence\n",
    "train_init['confs'] = temp_confs + train_init['Weeks_passed'] * var_confidence\n",
    "temp_confs = train_init.confs.values\n",
    "train_init.drop('confs', axis=1, inplace=True)\n",
    "\n",
    "test_init['confs'] = temp_confs_test + test_init['Weeks_passed'] * var_confidence\n",
    "temp_confs_test = test_init.confs.values\n",
    "test_init.drop('confs', axis=1, inplace=True)"
   ]
  },
  {
   "cell_type": "code",
   "execution_count": 12,
   "metadata": {
    "execution": {
     "iopub.execute_input": "2020-08-28T10:10:50.586629Z",
     "iopub.status.busy": "2020-08-28T10:10:50.583881Z",
     "iopub.status.idle": "2020-08-28T10:10:50.602357Z",
     "shell.execute_reply": "2020-08-28T10:10:50.601589Z"
    },
    "papermill": {
     "duration": 0.046878,
     "end_time": "2020-08-28T10:10:50.602481",
     "exception": false,
     "start_time": "2020-08-28T10:10:50.555603",
     "status": "completed"
    },
    "tags": []
   },
   "outputs": [],
   "source": [
    "# mean std removal and some interaction features\n",
    "train, test = normalize(train_init, test_init, feats)\n",
    "train, test, feats = more_feats(train, test, feats)"
   ]
  },
  {
   "cell_type": "code",
   "execution_count": 13,
   "metadata": {
    "execution": {
     "iopub.execute_input": "2020-08-28T10:10:50.656066Z",
     "iopub.status.busy": "2020-08-28T10:10:50.655260Z",
     "iopub.status.idle": "2020-08-28T10:10:50.688088Z",
     "shell.execute_reply": "2020-08-28T10:10:50.687392Z"
    },
    "papermill": {
     "duration": 0.062191,
     "end_time": "2020-08-28T10:10:50.688217",
     "exception": false,
     "start_time": "2020-08-28T10:10:50.626026",
     "status": "completed"
    },
    "tags": []
   },
   "outputs": [
    {
     "data": {
      "text/html": [
       "<div>\n",
       "<style scoped>\n",
       "    .dataframe tbody tr th:only-of-type {\n",
       "        vertical-align: middle;\n",
       "    }\n",
       "\n",
       "    .dataframe tbody tr th {\n",
       "        vertical-align: top;\n",
       "    }\n",
       "\n",
       "    .dataframe thead th {\n",
       "        text-align: right;\n",
       "    }\n",
       "</style>\n",
       "<table border=\"1\" class=\"dataframe\">\n",
       "  <thead>\n",
       "    <tr style=\"text-align: right;\">\n",
       "      <th></th>\n",
       "      <th>Age</th>\n",
       "      <th>Sex</th>\n",
       "      <th>SmokingStatus</th>\n",
       "      <th>init_FVC</th>\n",
       "      <th>init_Percent</th>\n",
       "      <th>Weeks_passed</th>\n",
       "      <th>age_perc_ratio</th>\n",
       "      <th>sex_smoke</th>\n",
       "      <th>fvc_age_diff</th>\n",
       "    </tr>\n",
       "  </thead>\n",
       "  <tbody>\n",
       "    <tr>\n",
       "      <th>0</th>\n",
       "      <td>1.672216</td>\n",
       "      <td>1</td>\n",
       "      <td>1</td>\n",
       "      <td>-0.564523</td>\n",
       "      <td>-1.147615</td>\n",
       "      <td>-0.612444</td>\n",
       "      <td>-0.686284</td>\n",
       "      <td>0</td>\n",
       "      <td>-2.236739</td>\n",
       "    </tr>\n",
       "    <tr>\n",
       "      <th>1</th>\n",
       "      <td>1.672216</td>\n",
       "      <td>1</td>\n",
       "      <td>1</td>\n",
       "      <td>-0.564523</td>\n",
       "      <td>-1.147615</td>\n",
       "      <td>-0.498266</td>\n",
       "      <td>-0.686284</td>\n",
       "      <td>0</td>\n",
       "      <td>-2.236739</td>\n",
       "    </tr>\n",
       "    <tr>\n",
       "      <th>2</th>\n",
       "      <td>1.672216</td>\n",
       "      <td>1</td>\n",
       "      <td>1</td>\n",
       "      <td>-0.564523</td>\n",
       "      <td>-1.147615</td>\n",
       "      <td>-0.384088</td>\n",
       "      <td>-0.686284</td>\n",
       "      <td>0</td>\n",
       "      <td>-2.236739</td>\n",
       "    </tr>\n",
       "    <tr>\n",
       "      <th>3</th>\n",
       "      <td>1.672216</td>\n",
       "      <td>1</td>\n",
       "      <td>1</td>\n",
       "      <td>-0.564523</td>\n",
       "      <td>-1.147615</td>\n",
       "      <td>-0.269910</td>\n",
       "      <td>-0.686284</td>\n",
       "      <td>0</td>\n",
       "      <td>-2.236739</td>\n",
       "    </tr>\n",
       "    <tr>\n",
       "      <th>4</th>\n",
       "      <td>1.672216</td>\n",
       "      <td>1</td>\n",
       "      <td>1</td>\n",
       "      <td>-0.564523</td>\n",
       "      <td>-1.147615</td>\n",
       "      <td>0.072625</td>\n",
       "      <td>-0.686284</td>\n",
       "      <td>0</td>\n",
       "      <td>-2.236739</td>\n",
       "    </tr>\n",
       "    <tr>\n",
       "      <th>...</th>\n",
       "      <td>...</td>\n",
       "      <td>...</td>\n",
       "      <td>...</td>\n",
       "      <td>...</td>\n",
       "      <td>...</td>\n",
       "      <td>...</td>\n",
       "      <td>...</td>\n",
       "      <td>...</td>\n",
       "      <td>...</td>\n",
       "    </tr>\n",
       "    <tr>\n",
       "      <th>1362</th>\n",
       "      <td>0.823063</td>\n",
       "      <td>1</td>\n",
       "      <td>2</td>\n",
       "      <td>0.163256</td>\n",
       "      <td>-0.446957</td>\n",
       "      <td>-0.384088</td>\n",
       "      <td>-0.543041</td>\n",
       "      <td>-1</td>\n",
       "      <td>-0.659808</td>\n",
       "    </tr>\n",
       "    <tr>\n",
       "      <th>1363</th>\n",
       "      <td>0.823063</td>\n",
       "      <td>1</td>\n",
       "      <td>2</td>\n",
       "      <td>0.163256</td>\n",
       "      <td>-0.446957</td>\n",
       "      <td>-0.041553</td>\n",
       "      <td>-0.543041</td>\n",
       "      <td>-1</td>\n",
       "      <td>-0.659808</td>\n",
       "    </tr>\n",
       "    <tr>\n",
       "      <th>1364</th>\n",
       "      <td>0.823063</td>\n",
       "      <td>1</td>\n",
       "      <td>2</td>\n",
       "      <td>0.163256</td>\n",
       "      <td>-0.446957</td>\n",
       "      <td>0.643515</td>\n",
       "      <td>-0.543041</td>\n",
       "      <td>-1</td>\n",
       "      <td>-0.659808</td>\n",
       "    </tr>\n",
       "    <tr>\n",
       "      <th>1365</th>\n",
       "      <td>0.823063</td>\n",
       "      <td>1</td>\n",
       "      <td>2</td>\n",
       "      <td>0.163256</td>\n",
       "      <td>-0.446957</td>\n",
       "      <td>1.328583</td>\n",
       "      <td>-0.543041</td>\n",
       "      <td>-1</td>\n",
       "      <td>-0.659808</td>\n",
       "    </tr>\n",
       "    <tr>\n",
       "      <th>1366</th>\n",
       "      <td>0.823063</td>\n",
       "      <td>1</td>\n",
       "      <td>2</td>\n",
       "      <td>0.163256</td>\n",
       "      <td>-0.446957</td>\n",
       "      <td>2.242008</td>\n",
       "      <td>-0.543041</td>\n",
       "      <td>-1</td>\n",
       "      <td>-0.659808</td>\n",
       "    </tr>\n",
       "  </tbody>\n",
       "</table>\n",
       "<p>1367 rows × 9 columns</p>\n",
       "</div>"
      ],
      "text/plain": [
       "           Age  Sex  SmokingStatus  init_FVC  init_Percent  Weeks_passed  \\\n",
       "0     1.672216    1              1 -0.564523     -1.147615     -0.612444   \n",
       "1     1.672216    1              1 -0.564523     -1.147615     -0.498266   \n",
       "2     1.672216    1              1 -0.564523     -1.147615     -0.384088   \n",
       "3     1.672216    1              1 -0.564523     -1.147615     -0.269910   \n",
       "4     1.672216    1              1 -0.564523     -1.147615      0.072625   \n",
       "...        ...  ...            ...       ...           ...           ...   \n",
       "1362  0.823063    1              2  0.163256     -0.446957     -0.384088   \n",
       "1363  0.823063    1              2  0.163256     -0.446957     -0.041553   \n",
       "1364  0.823063    1              2  0.163256     -0.446957      0.643515   \n",
       "1365  0.823063    1              2  0.163256     -0.446957      1.328583   \n",
       "1366  0.823063    1              2  0.163256     -0.446957      2.242008   \n",
       "\n",
       "      age_perc_ratio  sex_smoke  fvc_age_diff  \n",
       "0          -0.686284          0     -2.236739  \n",
       "1          -0.686284          0     -2.236739  \n",
       "2          -0.686284          0     -2.236739  \n",
       "3          -0.686284          0     -2.236739  \n",
       "4          -0.686284          0     -2.236739  \n",
       "...              ...        ...           ...  \n",
       "1362       -0.543041         -1     -0.659808  \n",
       "1363       -0.543041         -1     -0.659808  \n",
       "1364       -0.543041         -1     -0.659808  \n",
       "1365       -0.543041         -1     -0.659808  \n",
       "1366       -0.543041         -1     -0.659808  \n",
       "\n",
       "[1367 rows x 9 columns]"
      ]
     },
     "execution_count": 13,
     "metadata": {},
     "output_type": "execute_result"
    }
   ],
   "source": [
    "train[feats]"
   ]
  },
  {
   "cell_type": "code",
   "execution_count": 14,
   "metadata": {
    "execution": {
     "iopub.execute_input": "2020-08-28T10:10:50.746818Z",
     "iopub.status.busy": "2020-08-28T10:10:50.745686Z",
     "iopub.status.idle": "2020-08-28T10:10:50.752054Z",
     "shell.execute_reply": "2020-08-28T10:10:50.751334Z"
    },
    "papermill": {
     "duration": 0.039721,
     "end_time": "2020-08-28T10:10:50.752183",
     "exception": false,
     "start_time": "2020-08-28T10:10:50.712462",
     "status": "completed"
    },
    "tags": []
   },
   "outputs": [],
   "source": [
    "seed = 42\n",
    "alpha = 1000\n",
    "num_folds = 5\n",
    "kf = GroupKFold(num_folds)\n",
    "coefs = []\n",
    "pp_coef = 1.00 # optimize by weeks passed corrected for init fvc?\n",
    "\n",
    "oof = np.zeros(len(train))\n",
    "preds = np.zeros((len(test), num_folds))\n",
    "score_indices = train.groupby('Patient').tail(3).index.values # used to select only last 3 entries for scoring during validation\n",
    "score_mask = np.zeros(len(train))\n",
    "score_mask[score_indices] += 1"
   ]
  },
  {
   "cell_type": "code",
   "execution_count": 15,
   "metadata": {
    "execution": {
     "iopub.execute_input": "2020-08-28T10:10:50.816821Z",
     "iopub.status.busy": "2020-08-28T10:10:50.816033Z",
     "iopub.status.idle": "2020-08-28T10:10:51.018009Z",
     "shell.execute_reply": "2020-08-28T10:10:51.018666Z"
    },
    "papermill": {
     "duration": 0.243094,
     "end_time": "2020-08-28T10:10:51.018985",
     "exception": false,
     "start_time": "2020-08-28T10:10:50.775891",
     "status": "completed"
    },
    "tags": []
   },
   "outputs": [
    {
     "name": "stdout",
     "output_type": "stream",
     "text": [
      "Fold 1 score without optimized confidence:  -6.947\n",
      "Fold 2 score without optimized confidence:  -6.9419\n",
      "Fold 3 score without optimized confidence:  -7.163\n",
      "Fold 4 score without optimized confidence:  -6.9393\n",
      "Fold 5 score without optimized confidence:  -6.9276\n"
     ]
    }
   ],
   "source": [
    "for fold, (train_idx, val_idx) in enumerate(kf.split(train, train, groups=train.Patient)):\n",
    "    xtrain, xval = train.iloc[train_idx], train.iloc[val_idx]\n",
    "    # get initial fvc values for each patient\n",
    "    xtrain_fvc = train_init.iloc[train_idx]['init_FVC']\n",
    "    xval_fvc = train_init.iloc[val_idx]['init_FVC']\n",
    "    xtest_fvc = test_init['init_FVC']\n",
    "    \n",
    "    # use difference to initial fvc values as target\n",
    "    xtrain[target] = xtrain[target].values.flatten() - xtrain_fvc.values.flatten()\n",
    "    model = Ridge(alpha=alpha, normalize=False)\n",
    "    model.fit(xtrain[feats], xtrain[target])\n",
    "    coefs.append(model.coef_)\n",
    "    \n",
    "    # prediction = init fvc + predicted delta by model\n",
    "    oof[val_idx] = (model.predict(xval[feats]).flatten() + xval_fvc) * pp_coef\n",
    "    preds[:, fold] = (model.predict(test[feats]).flatten() + xtest_fvc) * pp_coef\n",
    "    \n",
    "    score_fold = score(xval[target], oof[val_idx], temp_confs[val_idx], score_mask[val_idx])\n",
    "    print(\"Fold {} score without optimized confidence: \".format(fold+1), np.round(score_fold, 4))"
   ]
  },
  {
   "cell_type": "code",
   "execution_count": 16,
   "metadata": {
    "execution": {
     "iopub.execute_input": "2020-08-28T10:10:51.078881Z",
     "iopub.status.busy": "2020-08-28T10:10:51.077797Z",
     "iopub.status.idle": "2020-08-28T10:10:51.081636Z",
     "shell.execute_reply": "2020-08-28T10:10:51.081033Z"
    },
    "papermill": {
     "duration": 0.036771,
     "end_time": "2020-08-28T10:10:51.081780",
     "exception": false,
     "start_time": "2020-08-28T10:10:51.045009",
     "status": "completed"
    },
    "tags": []
   },
   "outputs": [],
   "source": [
    "coefs = np.concatenate(coefs)\n",
    "coefs = np.mean(coefs, axis=0)\n",
    "coefs_dict = {feats[i]:coefs[i] for i in range(len(feats))}"
   ]
  },
  {
   "cell_type": "code",
   "execution_count": 17,
   "metadata": {
    "execution": {
     "iopub.execute_input": "2020-08-28T10:10:51.139502Z",
     "iopub.status.busy": "2020-08-28T10:10:51.138453Z",
     "iopub.status.idle": "2020-08-28T10:10:51.143316Z",
     "shell.execute_reply": "2020-08-28T10:10:51.142628Z"
    },
    "papermill": {
     "duration": 0.036068,
     "end_time": "2020-08-28T10:10:51.143459",
     "exception": false,
     "start_time": "2020-08-28T10:10:51.107391",
     "status": "completed"
    },
    "tags": []
   },
   "outputs": [
    {
     "data": {
      "text/plain": [
       "{'Age': -5.444099676602934,\n",
       " 'Sex': -2.424797530788386,\n",
       " 'SmokingStatus': -2.7156403955191273,\n",
       " 'init_FVC': -13.21529901957706,\n",
       " 'init_Percent': -5.899179855158419,\n",
       " 'Weeks_passed': -31.050152102954524,\n",
       " 'age_perc_ratio': 1.8313463795052685,\n",
       " 'sex_smoke': 0.29084286473074006,\n",
       " 'fvc_age_diff': -7.771199342974119}"
      ]
     },
     "execution_count": 17,
     "metadata": {},
     "output_type": "execute_result"
    }
   ],
   "source": [
    "coefs_dict"
   ]
  },
  {
   "cell_type": "code",
   "execution_count": 18,
   "metadata": {
    "execution": {
     "iopub.execute_input": "2020-08-28T10:10:51.210085Z",
     "iopub.status.busy": "2020-08-28T10:10:51.205180Z",
     "iopub.status.idle": "2020-08-28T10:10:51.217659Z",
     "shell.execute_reply": "2020-08-28T10:10:51.216660Z"
    },
    "papermill": {
     "duration": 0.049013,
     "end_time": "2020-08-28T10:10:51.217842",
     "exception": false,
     "start_time": "2020-08-28T10:10:51.168829",
     "status": "completed"
    },
    "tags": []
   },
   "outputs": [
    {
     "name": "stdout",
     "output_type": "stream",
     "text": [
      "Score without optimized confidence:  -6.9848\n"
     ]
    }
   ],
   "source": [
    "preds = np.mean(preds, axis=1)\n",
    "score_init = score(train[target], oof, temp_confs, score_mask)\n",
    "print(\"Score without optimized confidence: \", np.round(score_init, 4))"
   ]
  },
  {
   "cell_type": "code",
   "execution_count": 19,
   "metadata": {
    "execution": {
     "iopub.execute_input": "2020-08-28T10:10:51.275921Z",
     "iopub.status.busy": "2020-08-28T10:10:51.274856Z",
     "iopub.status.idle": "2020-08-28T10:10:51.278405Z",
     "shell.execute_reply": "2020-08-28T10:10:51.277643Z"
    },
    "papermill": {
     "duration": 0.033941,
     "end_time": "2020-08-28T10:10:51.278541",
     "exception": false,
     "start_time": "2020-08-28T10:10:51.244600",
     "status": "completed"
    },
    "tags": []
   },
   "outputs": [],
   "source": [
    "#train_init['FVC_pred'] = oof\n",
    "#test_init['FVC_pred'] = preds"
   ]
  },
  {
   "cell_type": "code",
   "execution_count": 20,
   "metadata": {
    "execution": {
     "iopub.execute_input": "2020-08-28T10:10:51.336472Z",
     "iopub.status.busy": "2020-08-28T10:10:51.335493Z",
     "iopub.status.idle": "2020-08-28T10:10:51.338922Z",
     "shell.execute_reply": "2020-08-28T10:10:51.338268Z"
    },
    "papermill": {
     "duration": 0.034364,
     "end_time": "2020-08-28T10:10:51.339061",
     "exception": false,
     "start_time": "2020-08-28T10:10:51.304697",
     "status": "completed"
    },
    "tags": []
   },
   "outputs": [],
   "source": [
    "# postprocessing for out of distribution samples --> not working for now, no difference in LB score whatsoever\n",
    "# --> either no such samples in the test set or buggy\n",
    "# test.loc[test.Weeks_passed < train.Weeks_passed.min(), 'FVC_pred'] = test.FVC_pred * .99\n",
    "# preds = test.FVC_pred.values"
   ]
  },
  {
   "cell_type": "code",
   "execution_count": 21,
   "metadata": {
    "execution": {
     "iopub.execute_input": "2020-08-28T10:10:51.398390Z",
     "iopub.status.busy": "2020-08-28T10:10:51.397516Z",
     "iopub.status.idle": "2020-08-28T10:10:51.644845Z",
     "shell.execute_reply": "2020-08-28T10:10:51.644077Z"
    },
    "papermill": {
     "duration": 0.279521,
     "end_time": "2020-08-28T10:10:51.644976",
     "exception": false,
     "start_time": "2020-08-28T10:10:51.365455",
     "status": "completed"
    },
    "tags": []
   },
   "outputs": [
    {
     "data": {
      "text/plain": [
       "<matplotlib.axes._subplots.AxesSubplot at 0x7fb121267350>"
      ]
     },
     "execution_count": 21,
     "metadata": {},
     "output_type": "execute_result"
    },
    {
     "data": {
      "image/png": "[encoded data removed]",
      "text/plain": [
       "<Figure size 432x288 with 1 Axes>"
      ]
     },
     "metadata": {
      "needs_background": "light"
     },
     "output_type": "display_data"
    }
   ],
   "source": [
    "pd.Series(oof).plot()\n",
    "train.FVC.plot()"
   ]
  },
  {
   "cell_type": "code",
   "execution_count": 22,
   "metadata": {
    "execution": {
     "iopub.execute_input": "2020-08-28T10:10:51.712829Z",
     "iopub.status.busy": "2020-08-28T10:10:51.712044Z",
     "iopub.status.idle": "2020-08-28T10:10:51.914223Z",
     "shell.execute_reply": "2020-08-28T10:10:51.913542Z"
    },
    "papermill": {
     "duration": 0.240254,
     "end_time": "2020-08-28T10:10:51.914381",
     "exception": false,
     "start_time": "2020-08-28T10:10:51.674127",
     "status": "completed"
    },
    "tags": []
   },
   "outputs": [
    {
     "data": {
      "text/plain": [
       "<matplotlib.axes._subplots.AxesSubplot at 0x7fb11dfb2ad0>"
      ]
     },
     "execution_count": 22,
     "metadata": {},
     "output_type": "execute_result"
    },
    {
     "data": {
      "image/png": "[encoded data removed]",
      "text/plain": [
       "<Figure size 432x288 with 1 Axes>"
      ]
     },
     "metadata": {
      "needs_background": "light"
     },
     "output_type": "display_data"
    }
   ],
   "source": [
    "pd.Series(preds).plot()"
   ]
  },
  {
   "cell_type": "code",
   "execution_count": 23,
   "metadata": {
    "execution": {
     "iopub.execute_input": "2020-08-28T10:10:51.989040Z",
     "iopub.status.busy": "2020-08-28T10:10:51.984893Z",
     "iopub.status.idle": "2020-08-28T10:10:51.992926Z",
     "shell.execute_reply": "2020-08-28T10:10:51.992157Z"
    },
    "papermill": {
     "duration": 0.048927,
     "end_time": "2020-08-28T10:10:51.993066",
     "exception": false,
     "start_time": "2020-08-28T10:10:51.944139",
     "status": "completed"
    },
    "tags": []
   },
   "outputs": [],
   "source": [
    "# postprocessing based on 0 weeks passed --> max confidence and set FVC to init FVC instead of prediction\n",
    "test_init['FVC_pred'] = preds\n",
    "test_init['conf'] = temp_confs_test\n",
    "\n",
    "test_init.loc[test_init.Weeks_passed==0, 'conf'] = 70.0\n",
    "test_init.loc[test_init.Weeks_passed==0, 'FVC_pred'] = test_init[test_init.Weeks_passed==0]['init_FVC']\n",
    "\n",
    "preds = test_init.FVC_pred.values\n",
    "temp_confs_test = test_init.conf.values"
   ]
  },
  {
   "cell_type": "code",
   "execution_count": 24,
   "metadata": {
    "execution": {
     "iopub.execute_input": "2020-08-28T10:10:52.076006Z",
     "iopub.status.busy": "2020-08-28T10:10:52.074883Z",
     "iopub.status.idle": "2020-08-28T10:10:52.085253Z",
     "shell.execute_reply": "2020-08-28T10:10:52.084349Z"
    },
    "papermill": {
     "duration": 0.054191,
     "end_time": "2020-08-28T10:10:52.085447",
     "exception": false,
     "start_time": "2020-08-28T10:10:52.031256",
     "status": "completed"
    },
    "tags": []
   },
   "outputs": [],
   "source": [
    "sub = pd.read_csv('../input/osic-pulmonary-fibrosis-progression/sample_submission.csv')\n",
    "sub['FVC'] = preds\n",
    "sub['Confidence'] = temp_confs_test"
   ]
  },
  {
   "cell_type": "code",
   "execution_count": 25,
   "metadata": {
    "execution": {
     "iopub.execute_input": "2020-08-28T10:10:52.167407Z",
     "iopub.status.busy": "2020-08-28T10:10:52.166612Z",
     "iopub.status.idle": "2020-08-28T10:10:52.402565Z",
     "shell.execute_reply": "2020-08-28T10:10:52.401882Z"
    },
    "papermill": {
     "duration": 0.276453,
     "end_time": "2020-08-28T10:10:52.402721",
     "exception": false,
     "start_time": "2020-08-28T10:10:52.126268",
     "status": "completed"
    },
    "tags": []
   },
   "outputs": [],
   "source": [
    "sub.to_csv('submission.csv', index=False)"
   ]
  },
  {
   "cell_type": "code",
   "execution_count": 26,
   "metadata": {
    "execution": {
     "iopub.execute_input": "2020-08-28T10:10:52.482558Z",
     "iopub.status.busy": "2020-08-28T10:10:52.481667Z",
     "iopub.status.idle": "2020-08-28T10:10:52.487345Z",
     "shell.execute_reply": "2020-08-28T10:10:52.486575Z"
    },
    "papermill": {
     "duration": 0.054131,
     "end_time": "2020-08-28T10:10:52.487475",
     "exception": false,
     "start_time": "2020-08-28T10:10:52.433344",
     "status": "completed"
    },
    "tags": []
   },
   "outputs": [
    {
     "data": {
      "text/html": [
       "<div>\n",
       "<style scoped>\n",
       "    .dataframe tbody tr th:only-of-type {\n",
       "        vertical-align: middle;\n",
       "    }\n",
       "\n",
       "    .dataframe tbody tr th {\n",
       "        vertical-align: top;\n",
       "    }\n",
       "\n",
       "    .dataframe thead th {\n",
       "        text-align: right;\n",
       "    }\n",
       "</style>\n",
       "<table border=\"1\" class=\"dataframe\">\n",
       "  <thead>\n",
       "    <tr style=\"text-align: right;\">\n",
       "      <th></th>\n",
       "      <th>Patient_Week</th>\n",
       "      <th>FVC</th>\n",
       "      <th>Confidence</th>\n",
       "    </tr>\n",
       "  </thead>\n",
       "  <tbody>\n",
       "    <tr>\n",
       "      <th>0</th>\n",
       "      <td>ID00419637202311204720264_-12</td>\n",
       "      <td>2976.874889</td>\n",
       "      <td>164.0</td>\n",
       "    </tr>\n",
       "    <tr>\n",
       "      <th>1</th>\n",
       "      <td>ID00421637202311550012437_-12</td>\n",
       "      <td>2716.068875</td>\n",
       "      <td>146.0</td>\n",
       "    </tr>\n",
       "    <tr>\n",
       "      <th>2</th>\n",
       "      <td>ID00422637202311677017371_-12</td>\n",
       "      <td>1912.936678</td>\n",
       "      <td>164.0</td>\n",
       "    </tr>\n",
       "    <tr>\n",
       "      <th>3</th>\n",
       "      <td>ID00423637202312137826377_-12</td>\n",
       "      <td>3261.433789</td>\n",
       "      <td>142.0</td>\n",
       "    </tr>\n",
       "    <tr>\n",
       "      <th>4</th>\n",
       "      <td>ID00426637202313170790466_-12</td>\n",
       "      <td>2870.300601</td>\n",
       "      <td>176.0</td>\n",
       "    </tr>\n",
       "    <tr>\n",
       "      <th>...</th>\n",
       "      <td>...</td>\n",
       "      <td>...</td>\n",
       "      <td>...</td>\n",
       "    </tr>\n",
       "    <tr>\n",
       "      <th>725</th>\n",
       "      <td>ID00419637202311204720264_133</td>\n",
       "      <td>2719.844553</td>\n",
       "      <td>454.0</td>\n",
       "    </tr>\n",
       "    <tr>\n",
       "      <th>726</th>\n",
       "      <td>ID00421637202311550012437_133</td>\n",
       "      <td>2459.038539</td>\n",
       "      <td>436.0</td>\n",
       "    </tr>\n",
       "    <tr>\n",
       "      <th>727</th>\n",
       "      <td>ID00422637202311677017371_133</td>\n",
       "      <td>1655.906342</td>\n",
       "      <td>454.0</td>\n",
       "    </tr>\n",
       "    <tr>\n",
       "      <th>728</th>\n",
       "      <td>ID00423637202312137826377_133</td>\n",
       "      <td>3004.403453</td>\n",
       "      <td>432.0</td>\n",
       "    </tr>\n",
       "    <tr>\n",
       "      <th>729</th>\n",
       "      <td>ID00426637202313170790466_133</td>\n",
       "      <td>2613.270265</td>\n",
       "      <td>466.0</td>\n",
       "    </tr>\n",
       "  </tbody>\n",
       "</table>\n",
       "<p>730 rows × 3 columns</p>\n",
       "</div>"
      ],
      "text/plain": [
       "                      Patient_Week          FVC  Confidence\n",
       "0    ID00419637202311204720264_-12  2976.874889       164.0\n",
       "1    ID00421637202311550012437_-12  2716.068875       146.0\n",
       "2    ID00422637202311677017371_-12  1912.936678       164.0\n",
       "3    ID00423637202312137826377_-12  3261.433789       142.0\n",
       "4    ID00426637202313170790466_-12  2870.300601       176.0\n",
       "..                             ...          ...         ...\n",
       "725  ID00419637202311204720264_133  2719.844553       454.0\n",
       "726  ID00421637202311550012437_133  2459.038539       436.0\n",
       "727  ID00422637202311677017371_133  1655.906342       454.0\n",
       "728  ID00423637202312137826377_133  3004.403453       432.0\n",
       "729  ID00426637202313170790466_133  2613.270265       466.0\n",
       "\n",
       "[730 rows x 3 columns]"
      ]
     },
     "execution_count": 26,
     "metadata": {},
     "output_type": "execute_result"
    }
   ],
   "source": [
    "sub"
   ]
  }
 ],
 "metadata": {
  "kernelspec": {
   "display_name": "Python 3",
   "language": "python",
   "name": "python3"
  },
  "language_info": {
   "codemirror_mode": {
    "name": "ipython",
    "version": 3
   },
   "file_extension": ".py",
   "mimetype": "text/x-python",
   "name": "python",
   "nbconvert_exporter": "python",
   "pygments_lexer": "ipython3",
   "version": "3.7.6"
  },
  "papermill": {
   "duration": 9.902741,
   "end_time": "2020-08-28T10:10:53.590876",
   "environment_variables": {},
   "exception": null,
   "input_path": "__notebook__.ipynb",
   "output_path": "__notebook__.ipynb",
   "parameters": {},
   "start_time": "2020-08-28T10:10:43.688135",
   "version": "2.1.0"
  }
 },
 "nbformat": 4,
 "nbformat_minor": 4
}
